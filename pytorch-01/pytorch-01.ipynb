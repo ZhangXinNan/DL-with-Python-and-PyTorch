{
 "cells": [
  {
   "cell_type": "markdown",
   "metadata": {},
   "source": [
    "<h3>1.1 生成numpy数组</h3>"
   ]
  },
  {
   "cell_type": "code",
   "execution_count": 1,
   "metadata": {
    "collapsed": true
   },
   "outputs": [],
   "source": [
    "import numpy as np"
   ]
  },
  {
   "cell_type": "code",
   "execution_count": 2,
   "metadata": {
    "collapsed": true
   },
   "outputs": [],
   "source": [
    "#查看numpy函数的帮助信息\n",
    "np.abs?"
   ]
  },
  {
   "cell_type": "markdown",
   "metadata": {},
   "source": [
    "1.1.1 从已有数据中创建数组"
   ]
  },
  {
   "cell_type": "code",
   "execution_count": 3,
   "metadata": {},
   "outputs": [
    {
     "name": "stdout",
     "output_type": "stream",
     "text": [
      "[3.14 2.17 0.   1.   2.  ]\n",
      "<class 'numpy.ndarray'>\n"
     ]
    }
   ],
   "source": [
    "import numpy as np\n",
    "\n",
    "lst1 = [3.14, 2.17, 0, 1, 2]\n",
    "nd1 =np.array(lst1)\n",
    "print(nd1)\n",
    "# [3.14 2.17 0.   1.   2.  ]\n",
    "print(type(nd1))\n"
   ]
  },
  {
   "cell_type": "code",
   "execution_count": 4,
   "metadata": {},
   "outputs": [
    {
     "name": "stdout",
     "output_type": "stream",
     "text": [
      "[[3.14 2.17 0.   1.   2.  ]\n",
      " [1.   2.   3.   4.   5.  ]]\n",
      "<class 'numpy.ndarray'>\n"
     ]
    }
   ],
   "source": [
    "import numpy as np\n",
    "\n",
    "lst2 = [[3.14, 2.17, 0, 1, 2], [1, 2, 3, 4, 5]]\n",
    "nd2 =np.array(lst2)\n",
    "print(nd2)\n",
    "# [[3.14 2.17 0.   1.   2.  ]\n",
    "#  [1.   2.   3.   4.   5.  ]]\n",
    "print(type(nd2))\n"
   ]
  },
  {
   "cell_type": "markdown",
   "metadata": {},
   "source": [
    "1.1.2 利用 random 模块生成数组"
   ]
  },
  {
   "cell_type": "code",
   "execution_count": 5,
   "metadata": {},
   "outputs": [
    {
     "name": "stdout",
     "output_type": "stream",
     "text": [
      "[[0.52737633 0.18920635 0.89174664]\n",
      " [0.8803694  0.42514344 0.55471319]\n",
      " [0.73843916 0.0348768  0.17663269]]\n",
      "nd3的形状为: (3, 3)\n"
     ]
    }
   ],
   "source": [
    "import numpy as np\n",
    "\n",
    "nd3 =np.random.random([3, 3])\n",
    "print(nd3)\n",
    "# [[0.43007219 0.87135582 0.45327073]\n",
    "#  [0.7929617  0.06584697 0.82896613]\n",
    "#  [0.62518386 0.70709239 0.75959122]]\n",
    "print(\"nd3的形状为:\",nd3.shape)\n"
   ]
  },
  {
   "cell_type": "code",
   "execution_count": 6,
   "metadata": {},
   "outputs": [
    {
     "name": "stdout",
     "output_type": "stream",
     "text": [
      "[[-1.0856306   0.99734545  0.2829785 ]\n",
      " [-1.50629471 -0.57860025  1.65143654]]\n",
      "随机打乱后数据:\n",
      "[[-1.50629471 -0.57860025  1.65143654]\n",
      " [-1.0856306   0.99734545  0.2829785 ]]\n",
      "<class 'numpy.ndarray'>\n"
     ]
    }
   ],
   "source": [
    "import numpy as np\n",
    "\n",
    "np.random.seed(123)\n",
    "nd4 = np.random.randn(2,3)\n",
    "print(nd4)\n",
    "np.random.shuffle(nd4)\n",
    "print(\"随机打乱后数据:\")\n",
    "print(nd4)\n",
    "print(type(nd4))\n"
   ]
  },
  {
   "cell_type": "markdown",
   "metadata": {},
   "source": [
    "1.1.3 创建特定形状的多维数组"
   ]
  },
  {
   "cell_type": "code",
   "execution_count": 7,
   "metadata": {},
   "outputs": [
    {
     "name": "stdout",
     "output_type": "stream",
     "text": [
      "[[0. 0. 0.]\n",
      " [0. 0. 0.]\n",
      " [0. 0. 0.]]\n",
      "[[1. 1. 1.]\n",
      " [1. 1. 1.]\n",
      " [1. 1. 1.]]\n",
      "[[1. 0. 0.]\n",
      " [0. 1. 0.]\n",
      " [0. 0. 1.]]\n",
      "[[1 0 0]\n",
      " [0 2 0]\n",
      " [0 0 3]]\n"
     ]
    }
   ],
   "source": [
    "import numpy as np\n",
    "\n",
    "# 生成全是 0 的 3x3 矩阵\n",
    "nd5 =np.zeros([3, 3])\n",
    "#生成与nd5形状一样的全0矩阵\n",
    "#np.zeros_like(nd5)\n",
    "# 生成全是 1 的 3x3 矩阵\n",
    "nd6 = np.ones([3, 3])\n",
    "# 生成 3 阶的单位矩阵\n",
    "nd7 = np.eye(3)\n",
    "# 生成 3 阶对角矩阵\n",
    "nd8 = np.diag([1, 2, 3])\n",
    "\n",
    "print(nd5)\n",
    "print(nd6)\n",
    "print(nd7)\n",
    "print(nd8)"
   ]
  },
  {
   "cell_type": "code",
   "execution_count": 8,
   "metadata": {},
   "outputs": [
    {
     "name": "stdout",
     "output_type": "stream",
     "text": [
      "[[0.41092437 0.5796943  0.13995076 0.40101756 0.62731701]\n",
      " [0.32415089 0.24475928 0.69475518 0.5939024  0.63179202]\n",
      " [0.44025718 0.08372648 0.71233018 0.42786349 0.2977805 ]\n",
      " [0.49208478 0.74029639 0.35772892 0.41720995 0.65472131]\n",
      " [0.37380143 0.23451288 0.98799529 0.76599595 0.77700444]]\n"
     ]
    }
   ],
   "source": [
    "import numpy as np\n",
    "\n",
    "nd9 =np.random.random([5, 5])\n",
    "np.savetxt(X=nd9, fname='./test1.txt')\n",
    "nd10 = np.loadtxt('./test1.txt')\n",
    "print(nd10)\n"
   ]
  },
  {
   "cell_type": "markdown",
   "metadata": {},
   "source": [
    "1.1.4 利用 arange、linspace 函数生成数组"
   ]
  },
  {
   "cell_type": "code",
   "execution_count": 9,
   "metadata": {},
   "outputs": [
    {
     "name": "stdout",
     "output_type": "stream",
     "text": [
      "[0 1 2 3 4 5 6 7 8 9]\n",
      "[0 1 2 3 4 5 6 7 8 9]\n",
      "[1.  1.5 2.  2.5 3.  3.5]\n",
      "[9 8 7 6 5 4 3 2 1 0]\n"
     ]
    }
   ],
   "source": [
    "import numpy as np\n",
    "\n",
    "print(np.arange(10))\n",
    "# [0 1 2 3 4 5 6 7 8 9]\n",
    "print(np.arange(0, 10))\n",
    "# [0 1 2 3 4 5 6 7 8 9]\n",
    "print(np.arange(1, 4, 0.5))\n",
    "# [1.  1.5 2.  2.5 3.  3.5]\n",
    "print(np.arange(9, -1, -1))\n",
    "# [9 8 7 6 5 4 3 2 1 0]\n"
   ]
  },
  {
   "cell_type": "code",
   "execution_count": 10,
   "metadata": {},
   "outputs": [
    {
     "name": "stdout",
     "output_type": "stream",
     "text": [
      "[0.         0.11111111 0.22222222 0.33333333 0.44444444 0.55555556\n",
      " 0.66666667 0.77777778 0.88888889 1.        ]\n"
     ]
    }
   ],
   "source": [
    "import numpy as np\n",
    "\n",
    "print(np.linspace(0, 1, 10))\n"
   ]
  },
  {
   "cell_type": "markdown",
   "metadata": {},
   "source": [
    "<h2>1.2 获取元素</h2>"
   ]
  },
  {
   "cell_type": "code",
   "execution_count": 11,
   "metadata": {},
   "outputs": [
    {
     "data": {
      "text/plain": [
       "array([[ 1,  2],\n",
       "       [ 6,  7],\n",
       "       [11, 12],\n",
       "       [16, 17],\n",
       "       [21, 22]])"
      ]
     },
     "execution_count": 11,
     "metadata": {},
     "output_type": "execute_result"
    }
   ],
   "source": [
    "import numpy as np\n",
    "np.random.seed(2019)\n",
    "nd11 = np.random.random([10])\n",
    "#获取指定位置的数据，获取第4个元素\n",
    "nd11[3]\n",
    "#截取一段数据\n",
    "nd11[3:6]\n",
    "#截取固定间隔数据\n",
    "nd11[1:6:2]\n",
    "#倒序取数\n",
    "nd11[::-2]\n",
    "#截取一个多维数组的一个区域内数据\n",
    "nd12=np.arange(25).reshape([5,5])\n",
    "nd12[1:3,1:3]\n",
    "#截取一个多维数组中，数值在一个值域之内的数据\n",
    "nd12[(nd12>3)&(nd12<10)]\n",
    "#截取多维数组中，指定的行,如读取第2,3行\n",
    "nd12[[1,2]]  #或nd12[1:3,:]\n",
    "##截取多维数组中，指定的列,如读取第2,3列\n",
    "nd12[:,1:3]\n"
   ]
  },
  {
   "cell_type": "code",
   "execution_count": 13,
   "metadata": {},
   "outputs": [
    {
     "name": "stdout",
     "output_type": "stream",
     "text": [
      "随机可重复抽取\n",
      "[[19.  6. 24. 22.]\n",
      " [21. 17. 16.  2.]\n",
      " [23. 15. 13. 11.]]\n",
      "随机但不重复抽取\n",
      "[[ 5. 14. 23. 15.]\n",
      " [ 8. 24.  6. 18.]\n",
      " [13. 10. 21. 11.]]\n",
      "随机但按制度概率抽取\n",
      "[[19. 21. 18. 11.]\n",
      " [10. 21. 23. 19.]\n",
      " [18. 19. 11. 20.]]\n"
     ]
    }
   ],
   "source": [
    "import numpy as np\n",
    "from numpy import random as nr\n",
    "\n",
    "a=np.arange(1,25,dtype=float)\n",
    "c1=nr.choice(a,size=(3,4))  #size指定输出数组形状\n",
    "c2=nr.choice(a,size=(3,4),replace=False)  #replace缺省为True，即可重复抽取。\n",
    "#下式中参数p指定每个元素对应的抽取概率，缺省为每个元素被抽取的概率相同。\n",
    "c3=nr.choice(a,size=(3,4),p=a / np.sum(a))\n",
    "print(\"随机可重复抽取\")\n",
    "print(c1)\n",
    "print(\"随机但不重复抽取\")\n",
    "print(c2)\n",
    "print(\"随机但按制度概率抽取\")\n",
    "print(c3)\n"
   ]
  },
  {
   "cell_type": "markdown",
   "metadata": {},
   "source": [
    "<h3>1.3 Numpy的算术运算</h3>"
   ]
  },
  {
   "cell_type": "markdown",
   "metadata": {},
   "source": [
    "1.3.1对应元素相乘"
   ]
  },
  {
   "cell_type": "code",
   "execution_count": 15,
   "metadata": {},
   "outputs": [
    {
     "data": {
      "text/plain": [
       "array([[ 2,  0],\n",
       "       [-3, 16]])"
      ]
     },
     "execution_count": 15,
     "metadata": {},
     "output_type": "execute_result"
    }
   ],
   "source": [
    "A = np.array([[1, 2], [-1, 4]])\n",
    "B = np.array([[2, 0], [3, 4]])\n",
    "A*B\n"
   ]
  },
  {
   "cell_type": "code",
   "execution_count": 16,
   "metadata": {},
   "outputs": [
    {
     "data": {
      "text/plain": [
       "array([[ 2,  0],\n",
       "       [-3, 16]])"
      ]
     },
     "execution_count": 16,
     "metadata": {},
     "output_type": "execute_result"
    }
   ],
   "source": [
    "#或另一种表示方法\n",
    "np.multiply(A,B)\n"
   ]
  },
  {
   "cell_type": "code",
   "execution_count": 17,
   "metadata": {},
   "outputs": [
    {
     "name": "stdout",
     "output_type": "stream",
     "text": [
      "[[ 2.  4.]\n",
      " [-2.  8.]]\n",
      "[[ 0.5  1. ]\n",
      " [-0.5  2. ]]\n"
     ]
    }
   ],
   "source": [
    "print(A*2.0)\n",
    "print(A/2.0)\n"
   ]
  },
  {
   "cell_type": "code",
   "execution_count": 18,
   "metadata": {},
   "outputs": [
    {
     "name": "stdout",
     "output_type": "stream",
     "text": [
      "输入参数X的形状： (2, 3)\n",
      "激活函数sigmoid输出形状： (2, 3)\n",
      "激活函数relu输出形状： (2, 3)\n",
      "激活函数softmax输出形状： (2, 3)\n"
     ]
    }
   ],
   "source": [
    "X=np.random.rand(2,3)\n",
    "def sigmoid(x):\n",
    "    return 1/(1+np.exp(-x))\n",
    "def relu(x):\n",
    "    return np.maximum(0,x)\n",
    "def softmax(x):\n",
    "    return np.exp(x)/np.sum(np.exp(x))\n",
    "\n",
    "print(\"输入参数X的形状：\",X.shape)\n",
    "print(\"激活函数softmoid输出形状：\",softmoid(X).shape)\n",
    "print(\"激活函数relu输出形状：\",relu(X).shape)\n",
    "print(\"激活函数softmax输出形状：\",softmax(X).shape)\n"
   ]
  },
  {
   "cell_type": "markdown",
   "metadata": {},
   "source": [
    "1.3.2 点积运算"
   ]
  },
  {
   "cell_type": "code",
   "execution_count": 19,
   "metadata": {},
   "outputs": [
    {
     "name": "stdout",
     "output_type": "stream",
     "text": [
      "[[21 24 27]\n",
      " [47 54 61]]\n"
     ]
    }
   ],
   "source": [
    "X1=np.array([[1,2],[3,4]])\n",
    "X2=np.array([[5,6,7],[8,9,10]])\n",
    "X3=np.dot(X1,X2)\n",
    "print(X3)\n"
   ]
  },
  {
   "cell_type": "markdown",
   "metadata": {},
   "source": [
    "<h3>1.4 数组变形</h3>"
   ]
  },
  {
   "cell_type": "markdown",
   "metadata": {},
   "source": [
    "1.4.1 更改数组的形状"
   ]
  },
  {
   "cell_type": "code",
   "execution_count": 20,
   "metadata": {},
   "outputs": [
    {
     "name": "stdout",
     "output_type": "stream",
     "text": [
      "[0 1 2 3 4 5 6 7 8 9]\n",
      "[[0 1 2 3 4]\n",
      " [5 6 7 8 9]]\n",
      "[[0 1]\n",
      " [2 3]\n",
      " [4 5]\n",
      " [6 7]\n",
      " [8 9]]\n",
      "[[0 1 2 3 4]\n",
      " [5 6 7 8 9]]\n"
     ]
    }
   ],
   "source": [
    "import numpy as np\n",
    "\n",
    "arr =np.arange(10)\n",
    "print(arr)\n",
    "# 将向量 arr 维度变换为2行5列\n",
    "print(arr.reshape(2, 5))\n",
    "# 指定维度时可以只指定行数或列数, 其他用 -1 代替\n",
    "print(arr.reshape(5, -1))\n",
    "print(arr.reshape(-1, 5))\n"
   ]
  },
  {
   "cell_type": "code",
   "execution_count": 22,
   "metadata": {},
   "outputs": [
    {
     "name": "stdout",
     "output_type": "stream",
     "text": [
      "[0 1 2 3 4 5 6 7 8 9]\n",
      "[[0 1 2 3 4]\n",
      " [5 6 7 8 9]]\n"
     ]
    }
   ],
   "source": [
    "import numpy as np\n",
    "\n",
    "arr =np.arange(10)\n",
    "print(arr)\n",
    "# 将向量 arr 维度变换为2行5列\n",
    "arr.resize(2, 5)\n",
    "print(arr)\n"
   ]
  },
  {
   "cell_type": "code",
   "execution_count": 23,
   "metadata": {},
   "outputs": [
    {
     "name": "stdout",
     "output_type": "stream",
     "text": [
      "[[ 0  1  2  3]\n",
      " [ 4  5  6  7]\n",
      " [ 8  9 10 11]]\n",
      "[[ 0  4  8]\n",
      " [ 1  5  9]\n",
      " [ 2  6 10]\n",
      " [ 3  7 11]]\n"
     ]
    }
   ],
   "source": [
    "import numpy as np\n",
    "\n",
    "arr =np.arange(12).reshape(3,4)\n",
    "# 向量 arr 为3行4列\n",
    "print(arr)\n",
    "# 将向量 arr 进行转置为4行3列\n",
    "print(arr.T)\n"
   ]
  },
  {
   "cell_type": "code",
   "execution_count": 24,
   "metadata": {},
   "outputs": [
    {
     "name": "stdout",
     "output_type": "stream",
     "text": [
      "[[0 1 2]\n",
      " [3 4 5]]\n",
      "按照列优先，展平\n",
      "[0 3 1 4 2 5]\n",
      "按照行优先，展平\n",
      "[0 1 2 3 4 5]\n"
     ]
    }
   ],
   "source": [
    "import numpy as np\n",
    "\n",
    "arr =np.arange(6).reshape(2, -1)\n",
    "print(arr)\n",
    "# 按照列优先，展平\n",
    "print(\"按照列优先，展平\")\n",
    "print(arr.ravel('F'))\n",
    "# 按照行优先，展平\n",
    "print(\"按照行优先，展平\")\n",
    "print(arr.ravel())\n"
   ]
  },
  {
   "cell_type": "code",
   "execution_count": 25,
   "metadata": {},
   "outputs": [
    {
     "name": "stdout",
     "output_type": "stream",
     "text": [
      "[[9. 4. 5. 0.]\n",
      " [2. 6. 3. 7.]\n",
      " [7. 4. 3. 1.]]\n",
      "[9. 4. 5. 0. 2. 6. 3. 7. 7. 4. 3. 1.]\n"
     ]
    }
   ],
   "source": [
    "import numpy as np\n",
    "a =np.floor(10*np.random.random((3,4)))\n",
    "print(a)\n",
    "print(a.flatten())\n"
   ]
  },
  {
   "cell_type": "code",
   "execution_count": 26,
   "metadata": {},
   "outputs": [
    {
     "name": "stdout",
     "output_type": "stream",
     "text": [
      "(3, 1)\n",
      "(3,)\n",
      "(3, 1, 2, 1)\n",
      "(3, 2)\n"
     ]
    }
   ],
   "source": [
    "import numpy as np\n",
    "\n",
    "arr =np.arange(3).reshape(3, 1)\n",
    "print(arr.shape)  #(3,1)\n",
    "print(arr.squeeze().shape)  #(3,)\n",
    "arr1 =np.arange(6).reshape(3,1,2,1)\n",
    "print(arr1.shape) #(3, 1, 2, 1)\n",
    "print(arr1.squeeze().shape) #(3, 2)\n"
   ]
  },
  {
   "cell_type": "code",
   "execution_count": 27,
   "metadata": {},
   "outputs": [
    {
     "name": "stdout",
     "output_type": "stream",
     "text": [
      "(2, 3, 4)\n",
      "(3, 4, 2)\n"
     ]
    }
   ],
   "source": [
    "import numpy as np\n",
    "\n",
    "arr2 = np.arange(24).reshape(2,3,4)\n",
    "print(arr2.shape)  #(2, 3, 4)\n",
    "print(arr2.transpose(1,2,0).shape)  #(3, 4, 2)\n"
   ]
  },
  {
   "cell_type": "markdown",
   "metadata": {},
   "source": [
    "1.4.2 合并数组"
   ]
  },
  {
   "cell_type": "code",
   "execution_count": 28,
   "metadata": {},
   "outputs": [
    {
     "name": "stdout",
     "output_type": "stream",
     "text": [
      "[1 2 3 4 5 6]\n"
     ]
    }
   ],
   "source": [
    "import numpy as np\n",
    "\n",
    "a =np.array([1, 2, 3])\n",
    "b = np.array([4, 5, 6])\n",
    "c = np.append(a, b)\n",
    "print(c) \n"
   ]
  },
  {
   "cell_type": "code",
   "execution_count": 29,
   "metadata": {},
   "outputs": [
    {
     "name": "stdout",
     "output_type": "stream",
     "text": [
      "按行合并后的结果\n",
      "[[0 1]\n",
      " [2 3]\n",
      " [0 1]\n",
      " [2 3]]\n",
      "合并后数据维度 (4, 2)\n",
      "按列合并后的结果\n",
      "[[0 1 0 1]\n",
      " [2 3 2 3]]\n",
      "合并后数据维度 (2, 4)\n"
     ]
    }
   ],
   "source": [
    "import numpy as np\n",
    "\n",
    "a =np.arange(4).reshape(2, 2)\n",
    "b = np.arange(4).reshape(2, 2)\n",
    "# 按行合并\n",
    "c = np.append(a, b, axis=0)\n",
    "print('按行合并后的结果')\n",
    "print(c)\n",
    "print('合并后数据维度', c.shape)\n",
    "# 按列合并\n",
    "d = np.append(a, b, axis=1)\n",
    "print('按列合并后的结果')\n",
    "print(d)\n",
    "print('合并后数据维度', d.shape)\n"
   ]
  },
  {
   "cell_type": "code",
   "execution_count": 30,
   "metadata": {},
   "outputs": [
    {
     "name": "stdout",
     "output_type": "stream",
     "text": [
      "[[1 2]\n",
      " [3 4]\n",
      " [5 6]]\n",
      "[[1 2 5]\n",
      " [3 4 6]]\n"
     ]
    }
   ],
   "source": [
    "import numpy as np\n",
    "a =np.array([[1, 2], [3, 4]])\n",
    "b = np.array([[5, 6]])\n",
    "\n",
    "c = np.concatenate((a, b), axis=0)\n",
    "print(c)\n",
    "d = np.concatenate((a, b.T), axis=1)\n",
    "print(d)\n"
   ]
  },
  {
   "cell_type": "code",
   "execution_count": 31,
   "metadata": {},
   "outputs": [
    {
     "name": "stdout",
     "output_type": "stream",
     "text": [
      "[[[1 2]\n",
      "  [3 4]]\n",
      "\n",
      " [[5 6]\n",
      "  [7 8]]]\n"
     ]
    }
   ],
   "source": [
    "import numpy as np\n",
    "\n",
    "a =np.array([[1, 2], [3, 4]])\n",
    "b = np.array([[5, 6], [7, 8]])\n",
    "print(np.stack((a, b), axis=0))\n"
   ]
  },
  {
   "cell_type": "markdown",
   "metadata": {},
   "source": [
    "<h3>1.5 批量处理</h3>"
   ]
  },
  {
   "cell_type": "code",
   "execution_count": 33,
   "metadata": {},
   "outputs": [
    {
     "name": "stdout",
     "output_type": "stream",
     "text": [
      "(10000, 2, 3)\n",
      "第0批次,该批次的数据之和:-12.004771661353935\n",
      "第100批次,该批次的数据之和:16.473605798877667\n",
      "第200批次,该批次的数据之和:-22.985310112752487\n",
      "第300批次,该批次的数据之和:22.693180840720018\n",
      "第400批次,该批次的数据之和:9.63411432689607\n",
      "第500批次,该批次的数据之和:15.03040797862705\n",
      "第600批次,该批次的数据之和:1.0792138398715068\n",
      "第700批次,该批次的数据之和:-41.16814225014511\n",
      "第800批次,该批次的数据之和:19.785186824602015\n",
      "第900批次,该批次的数据之和:23.1094213780435\n",
      "第1000批次,该批次的数据之和:-5.4551981323766086\n",
      "第1100批次,该批次的数据之和:-10.741666197694936\n",
      "第1200批次,该批次的数据之和:-9.326319288477565\n",
      "第1300批次,该批次的数据之和:16.277675986667973\n",
      "第1400批次,该批次的数据之和:-0.18231365034971958\n",
      "第1500批次,该批次的数据之和:3.7531089823272428\n",
      "第1600批次,该批次的数据之和:27.9699683799084\n",
      "第1700批次,该批次的数据之和:33.67977007688657\n",
      "第1800批次,该批次的数据之和:-22.102475701307526\n",
      "第1900批次,该批次的数据之和:-21.38058907620988\n",
      "第2000批次,该批次的数据之和:-28.68789727293408\n",
      "第2100批次,该批次的数据之和:67.38545031470544\n",
      "第2200批次,该批次的数据之和:-27.16069700330879\n",
      "第2300批次,该批次的数据之和:4.855046646402307\n",
      "第2400批次,该批次的数据之和:25.94251513710434\n",
      "第2500批次,该批次的数据之和:-37.606114462386756\n",
      "第2600批次,该批次的数据之和:47.562265507185415\n",
      "第2700批次,该批次的数据之和:56.94289784137297\n",
      "第2800批次,该批次的数据之和:-22.206443076105987\n",
      "第2900批次,该批次的数据之和:-13.037551201572688\n",
      "第3000批次,该批次的数据之和:9.554769066628566\n",
      "第3100批次,该批次的数据之和:16.30567063610721\n",
      "第3200批次,该批次的数据之和:-20.55451409842678\n",
      "第3300批次,该批次的数据之和:-2.3104343738307485\n",
      "第3400批次,该批次的数据之和:33.31557974436629\n",
      "第3500批次,该批次的数据之和:-16.034080299452697\n",
      "第3600批次,该批次的数据之和:-11.955271070838656\n",
      "第3700批次,该批次的数据之和:-13.703816920727995\n",
      "第3800批次,该批次的数据之和:-3.404811840702294\n",
      "第3900批次,该批次的数据之和:32.044473512640074\n",
      "第4000批次,该批次的数据之和:24.597268403847938\n",
      "第4100批次,该批次的数据之和:12.257378693266741\n",
      "第4200批次,该批次的数据之和:21.828726832568883\n",
      "第4300批次,该批次的数据之和:23.336191695400792\n",
      "第4400批次,该批次的数据之和:-46.42096733364946\n",
      "第4500批次,该批次的数据之和:-18.35747437990694\n",
      "第4600批次,该批次的数据之和:15.68458190917157\n",
      "第4700批次,该批次的数据之和:-26.20216116273845\n",
      "第4800批次,该批次的数据之和:-9.740478369247189\n",
      "第4900批次,该批次的数据之和:10.814350161879368\n",
      "第5000批次,该批次的数据之和:47.3632491648505\n",
      "第5100批次,该批次的数据之和:58.316472588074866\n",
      "第5200批次,该批次的数据之和:7.598143628025493\n",
      "第5300批次,该批次的数据之和:9.115839374338563\n",
      "第5400批次,该批次的数据之和:18.98734084046374\n",
      "第5500批次,该批次的数据之和:-58.24712563039144\n",
      "第5600批次,该批次的数据之和:-9.674880638335598\n",
      "第5700批次,该批次的数据之和:-23.871757552978064\n",
      "第5800批次,该批次的数据之和:43.581477773069366\n",
      "第5900批次,该批次的数据之和:21.35651694166871\n",
      "第6000批次,该批次的数据之和:15.252630469829398\n",
      "第6100批次,该批次的数据之和:-6.835163396735858\n",
      "第6200批次,该批次的数据之和:-48.174090471145504\n",
      "第6300批次,该批次的数据之和:-0.8533576462477086\n",
      "第6400批次,该批次的数据之和:-8.501595465931029\n",
      "第6500批次,该批次的数据之和:15.359537191615408\n",
      "第6600批次,该批次的数据之和:-17.70689250156831\n",
      "第6700批次,该批次的数据之和:28.395282966141217\n",
      "第6800批次,该批次的数据之和:2.98833341899965\n",
      "第6900批次,该批次的数据之和:9.096589348275366\n",
      "第7000批次,该批次的数据之和:36.854295549240575\n",
      "第7100批次,该批次的数据之和:7.110276756493427\n",
      "第7200批次,该批次的数据之和:8.174542217191053\n",
      "第7300批次,该批次的数据之和:15.849049265468457\n",
      "第7400批次,该批次的数据之和:-75.35236060286547\n",
      "第7500批次,该批次的数据之和:2.8506191455608842\n",
      "第7600批次,该批次的数据之和:6.264711027049859\n",
      "第7700批次,该批次的数据之和:31.74366564907332\n",
      "第7800批次,该批次的数据之和:-5.672368289237293\n",
      "第7900批次,该批次的数据之和:11.531024002636713\n",
      "第8000批次,该批次的数据之和:-15.961547877140903\n",
      "第8100批次,该批次的数据之和:-3.232416430425202\n",
      "第8200批次,该批次的数据之和:6.0643596830793856\n",
      "第8300批次,该批次的数据之和:-4.2223777536542055\n",
      "第8400批次,该批次的数据之和:17.433574350018446\n",
      "第8500批次,该批次的数据之和:3.7381765958369755\n",
      "第8600批次,该批次的数据之和:-10.700709266024493\n",
      "第8700批次,该批次的数据之和:38.38900651777439\n",
      "第8800批次,该批次的数据之和:-24.22261651310147\n",
      "第8900批次,该批次的数据之和:-2.1029606113493085\n",
      "第9000批次,该批次的数据之和:-43.46825925674253\n",
      "第9100批次,该批次的数据之和:31.307453925943612\n",
      "第9200批次,该批次的数据之和:19.41364876562381\n",
      "第9300批次,该批次的数据之和:61.30502426317767\n",
      "第9400批次,该批次的数据之和:-29.761295249079616\n",
      "第9500批次,该批次的数据之和:-5.866802331891145\n",
      "第9600批次,该批次的数据之和:-12.910974481806726\n",
      "第9700批次,该批次的数据之和:13.19659701469578\n",
      "第9800批次,该批次的数据之和:13.128172728108705\n",
      "第9900批次,该批次的数据之和:3.140510881745257\n"
     ]
    }
   ],
   "source": [
    "import numpy as np\n",
    "#生成10000个形状为2X3的矩阵\n",
    "data_train = np.random.randn(10000,2,3)\n",
    "#这是一个3维矩阵，第一个维度为样本数，后两个是数据形状\n",
    "print(data_train.shape)\n",
    "#(10000,2,3)\n",
    "#打乱这10000条数据\n",
    "np.random.shuffle(data_train)\n",
    "#定义批量大小\n",
    "batch_size=100\n",
    "#进行批处理\n",
    "for i in range(0,len(data_train),batch_size):\n",
    "    x_batch_sum=np.sum(data_train[i:i+batch_size])\n",
    "    print(\"第{}批次,该批次的数据之和:{}\".format(i,x_batch_sum))\n"
   ]
  },
  {
   "cell_type": "markdown",
   "metadata": {},
   "source": [
    "<h3>1.6 通用函数</h3>"
   ]
  },
  {
   "cell_type": "code",
   "execution_count": 34,
   "metadata": {},
   "outputs": [
    {
     "name": "stdout",
     "output_type": "stream",
     "text": [
      "math.sin: 0.35289400000000004\n",
      "numpy.sin: 0.25609200000000065\n"
     ]
    }
   ],
   "source": [
    "import time\n",
    "import math\n",
    "import numpy as np\n",
    "\n",
    "x = [i * 0.001 for i in np.arange(1000000)]\n",
    "start = time.clock()\n",
    "for i, t in enumerate(x):\n",
    "    x[i] = math.sin(t)\n",
    "print (\"math.sin:\", time.clock() - start )\n",
    "\n",
    "x = [i * 0.001 for i in np.arange(1000000)]\n",
    "x = np.array(x)\n",
    "start = time.clock()\n",
    "np.sin(x)\n",
    "print (\"numpy.sin:\", time.clock() - start )\n"
   ]
  },
  {
   "cell_type": "code",
   "execution_count": 35,
   "metadata": {},
   "outputs": [
    {
     "name": "stdout",
     "output_type": "stream",
     "text": [
      "dot = 250060.8664321925\n",
      " for loop----- Computation time = 760.0865419999998ms\n",
      "dot = 250060.86643219576\n",
      " verctor version---- Computation time = 15.004614999998722ms\n"
     ]
    }
   ],
   "source": [
    "import time\n",
    "import numpy as np\n",
    "\n",
    "x1 = np.random.rand(1000000)\n",
    "x2 = np.random.rand(1000000)\n",
    "##使用循环计算向量点积\n",
    "tic = time.process_time()\n",
    "dot = 0\n",
    "for i in range(len(x1)):\n",
    "    dot+= x1[i]*x2[i]\n",
    "toc = time.process_time()\n",
    "print (\"dot = \" + str(dot) + \"\\n for loop----- Computation time = \" + str(1000*(toc - tic)) + \"ms\")\n",
    "##使用numpy函数求点积\n",
    "tic = time.process_time()\n",
    "dot = 0\n",
    "dot = np.dot(x1,x2)\n",
    "toc = time.process_time()\n",
    "print (\"dot = \" + str(dot) + \"\\n verctor version---- Computation time = \" + str(1000*(toc - tic)) + \"ms\")\n"
   ]
  },
  {
   "cell_type": "markdown",
   "metadata": {},
   "source": [
    "<h3>1.7 广播机制</h3>"
   ]
  },
  {
   "cell_type": "code",
   "execution_count": 36,
   "metadata": {},
   "outputs": [
    {
     "name": "stdout",
     "output_type": "stream",
     "text": [
      "A矩阵的形状:(4, 1),B矩阵的形状:(3,)\n",
      "C矩阵的形状:(4, 3)\n",
      "[[ 0  1  2]\n",
      " [10 11 12]\n",
      " [20 21 22]\n",
      " [30 31 32]]\n"
     ]
    }
   ],
   "source": [
    "import numpy as np\n",
    "A = np.arange(0, 40,10).reshape(4, 1)\n",
    "B = np.arange(0, 3)\n",
    "print(\"A矩阵的形状:{},B矩阵的形状:{}\".format(A.shape,B.shape))\n",
    "C=A+B\n",
    "print(\"C矩阵的形状:{}\".format(C.shape))\n",
    "print(C)\n"
   ]
  },
  {
   "cell_type": "code",
   "execution_count": null,
   "metadata": {
    "collapsed": true
   },
   "outputs": [],
   "source": []
  }
 ],
 "metadata": {
  "kernelspec": {
   "display_name": "Python 3",
   "language": "python",
   "name": "python3"
  },
  "language_info": {
   "codemirror_mode": {
    "name": "ipython",
    "version": 3
   },
   "file_extension": ".py",
   "mimetype": "text/x-python",
   "name": "python",
   "nbconvert_exporter": "python",
   "pygments_lexer": "ipython3",
   "version": "3.6.8"
  }
 },
 "nbformat": 4,
 "nbformat_minor": 2
}
